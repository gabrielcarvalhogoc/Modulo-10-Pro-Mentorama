{
 "cells": [
  {
   "cell_type": "code",
   "execution_count": 8,
   "metadata": {},
   "outputs": [
    {
     "data": {
      "text/html": [
       "<div>\n",
       "<style scoped>\n",
       "    .dataframe tbody tr th:only-of-type {\n",
       "        vertical-align: middle;\n",
       "    }\n",
       "\n",
       "    .dataframe tbody tr th {\n",
       "        vertical-align: top;\n",
       "    }\n",
       "\n",
       "    .dataframe thead th {\n",
       "        text-align: right;\n",
       "    }\n",
       "</style>\n",
       "<table border=\"1\" class=\"dataframe\">\n",
       "  <thead>\n",
       "    <tr style=\"text-align: right;\">\n",
       "      <th></th>\n",
       "      <th>ID</th>\n",
       "      <th>Nome</th>\n",
       "      <th>Idade</th>\n",
       "      <th>Gênero</th>\n",
       "      <th>Pontuação</th>\n",
       "      <th>Comprou</th>\n",
       "    </tr>\n",
       "  </thead>\n",
       "  <tbody>\n",
       "    <tr>\n",
       "      <th>0</th>\n",
       "      <td>1</td>\n",
       "      <td>Cliente 1</td>\n",
       "      <td>50</td>\n",
       "      <td>Feminino</td>\n",
       "      <td>25</td>\n",
       "      <td>1</td>\n",
       "    </tr>\n",
       "    <tr>\n",
       "      <th>1</th>\n",
       "      <td>2</td>\n",
       "      <td>Cliente 2</td>\n",
       "      <td>61</td>\n",
       "      <td>Feminino</td>\n",
       "      <td>88</td>\n",
       "      <td>0</td>\n",
       "    </tr>\n",
       "    <tr>\n",
       "      <th>2</th>\n",
       "      <td>3</td>\n",
       "      <td>Cliente 3</td>\n",
       "      <td>37</td>\n",
       "      <td>Feminino</td>\n",
       "      <td>62</td>\n",
       "      <td>0</td>\n",
       "    </tr>\n",
       "    <tr>\n",
       "      <th>3</th>\n",
       "      <td>4</td>\n",
       "      <td>Cliente 4</td>\n",
       "      <td>31</td>\n",
       "      <td>Feminino</td>\n",
       "      <td>42</td>\n",
       "      <td>0</td>\n",
       "    </tr>\n",
       "    <tr>\n",
       "      <th>4</th>\n",
       "      <td>5</td>\n",
       "      <td>Cliente 5</td>\n",
       "      <td>20</td>\n",
       "      <td>Masculino</td>\n",
       "      <td>4</td>\n",
       "      <td>0</td>\n",
       "    </tr>\n",
       "  </tbody>\n",
       "</table>\n",
       "</div>"
      ],
      "text/plain": [
       "   ID       Nome  Idade     Gênero  Pontuação  Comprou\n",
       "0   1  Cliente 1     50   Feminino         25        1\n",
       "1   2  Cliente 2     61   Feminino         88        0\n",
       "2   3  Cliente 3     37   Feminino         62        0\n",
       "3   4  Cliente 4     31   Feminino         42        0\n",
       "4   5  Cliente 5     20  Masculino          4        0"
      ]
     },
     "execution_count": 8,
     "metadata": {},
     "output_type": "execute_result"
    }
   ],
   "source": [
    "import pandas as pd\n",
    "import numpy as np\n",
    "from sklearn.metrics import classification_report, recall_score, precision_score\n",
    "from flask import Flask, request, jsonify, render_template\n",
    "from sklearn.ensemble import RandomForestClassifier\n",
    "from sklearn.tree import DecisionTreeClassifier\n",
    "from sklearn.model_selection import train_test_split\n",
    "import pickle\n",
    "\n",
    "\n",
    "# Gerar o conjunto de dados\n",
    "tamanho_dataset = 1000\n",
    "\n",
    "data = {\n",
    "    'ID': np.arange(1, tamanho_dataset + 1),\n",
    "    'Nome': ['Cliente ' + str(i) for i in range(1, tamanho_dataset + 1)],\n",
    "    'Idade': np.random.randint(18, 65, size=tamanho_dataset),\n",
    "    'Gênero': np.random.choice(['Masculino', 'Feminino'], size=tamanho_dataset),\n",
    "    'Pontuação': np.random.randint(1, 101, size=tamanho_dataset),\n",
    "    'Comprou': np.random.choice([0, 1], size=tamanho_dataset)  # 0 para não comprou, 1 para comprou\n",
    "}\n",
    "\n",
    "df = pd.DataFrame(data)\n",
    "\n",
    "df.head()"
   ]
  },
  {
   "cell_type": "code",
   "execution_count": 9,
   "metadata": {},
   "outputs": [],
   "source": [
    "# Separar dados em X e y\n",
    "X = df[['Idade', 'Pontuação']]\n",
    "y = df['Comprou']\n",
    "\n",
    "# Dividir os dados em conjunto de treinamento e teste\n",
    "X_train, X_test, y_train, y_test = train_test_split(X, y, test_size=0.2, random_state=42)"
   ]
  },
  {
   "cell_type": "code",
   "execution_count": 10,
   "metadata": {},
   "outputs": [],
   "source": [
    "# Criar e treinar o modelo Random Forest\n",
    "model_rf = RandomForestClassifier(random_state=42)\n",
    "model_rf.fit(X_train, y_train)\n",
    "\n",
    "# Fazer previsões no conjunto de teste\n",
    "y_pred_rf = model_rf.predict(X_test)"
   ]
  },
  {
   "cell_type": "code",
   "execution_count": 11,
   "metadata": {},
   "outputs": [],
   "source": [
    "# Salvar o modelo Random Forest com pickle\n",
    "with open('random_forest_model.pkl', 'wb') as model_file:\n",
    "    pickle.dump(model_rf, model_file)\n",
    "\n",
    "# Carregar o modelo Random Forest com pickle\n",
    "with open('random_forest_model.pkl', 'rb') as model_file:\n",
    "    loaded_rf_model = pickle.load(model_file)"
   ]
  },
  {
   "cell_type": "code",
   "execution_count": 12,
   "metadata": {},
   "outputs": [
    {
     "name": "stdout",
     "output_type": "stream",
     "text": [
      "Classification Report (Random Forest):\n",
      "              precision    recall  f1-score   support\n",
      "\n",
      "           0       0.51      0.51      0.51       106\n",
      "           1       0.45      0.46      0.46        94\n",
      "\n",
      "    accuracy                           0.48       200\n",
      "   macro avg       0.48      0.48      0.48       200\n",
      "weighted avg       0.49      0.48      0.49       200\n",
      "\n",
      "Recall: 0.4574468085106383\n",
      "Precision: 0.45263157894736844\n"
     ]
    }
   ],
   "source": [
    "# Avaliar o modelo\n",
    "classification_rep_rf = classification_report(y_test, y_pred_rf)\n",
    "recall_rf = recall_score(y_test, y_pred_rf)\n",
    "precision_rf = precision_score(y_test, y_pred_rf)\n",
    "\n",
    "print(\"Classification Report (Random Forest):\")\n",
    "print(classification_rep_rf)\n",
    "print(f\"Recall: {recall_rf}\")\n",
    "print(f\"Precision: {precision_rf}\")"
   ]
  },
  {
   "cell_type": "code",
   "execution_count": 13,
   "metadata": {},
   "outputs": [],
   "source": [
    "# Criar e treinar o modelo de árvore de decisão\n",
    "model_tree = DecisionTreeClassifier(random_state=42)\n",
    "model_tree.fit(X_train, y_train)\n",
    "\n",
    "# Fazer previsões no conjunto de teste\n",
    "y_pred_tree = model_tree.predict(X_test)"
   ]
  },
  {
   "cell_type": "code",
   "execution_count": 14,
   "metadata": {},
   "outputs": [],
   "source": [
    "# Salvar o modelo de árvore de decisão com pickle\n",
    "with open('decision_tree_model.pkl', 'wb') as model_file:\n",
    "    pickle.dump(model_tree, model_file)\n",
    "\n",
    "# Carregar o modelo de árvore de decisão com pickle\n",
    "with open('decision_tree_model.pkl', 'rb') as model_file:\n",
    "    loaded_tree_model = pickle.load(model_file)"
   ]
  },
  {
   "cell_type": "code",
   "execution_count": 15,
   "metadata": {},
   "outputs": [
    {
     "name": "stdout",
     "output_type": "stream",
     "text": [
      "Classification Report (Árvore de Decisão):\n",
      "              precision    recall  f1-score   support\n",
      "\n",
      "           0       0.58      0.57      0.57       106\n",
      "           1       0.52      0.53      0.53        94\n",
      "\n",
      "    accuracy                           0.55       200\n",
      "   macro avg       0.55      0.55      0.55       200\n",
      "weighted avg       0.55      0.55      0.55       200\n",
      "\n",
      "Recall: 0.5319148936170213\n",
      "Precision: 0.5208333333333334\n"
     ]
    }
   ],
   "source": [
    "# Avaliar o modelo\n",
    "classification_rep = classification_report(y_test, y_pred_tree)\n",
    "recall = recall_score(y_test, y_pred_tree)\n",
    "precision = precision_score(y_test, y_pred_tree)\n",
    "\n",
    "print(\"Classification Report (Árvore de Decisão):\")\n",
    "print(classification_rep)\n",
    "print(f\"Recall: {recall}\")\n",
    "print(f\"Precision: {precision}\")"
   ]
  }
 ],
 "metadata": {
  "kernelspec": {
   "display_name": "env",
   "language": "python",
   "name": "python3"
  },
  "language_info": {
   "codemirror_mode": {
    "name": "ipython",
    "version": 3
   },
   "file_extension": ".py",
   "mimetype": "text/x-python",
   "name": "python",
   "nbconvert_exporter": "python",
   "pygments_lexer": "ipython3",
   "version": "3.10.0"
  },
  "orig_nbformat": 4
 },
 "nbformat": 4,
 "nbformat_minor": 2
}
